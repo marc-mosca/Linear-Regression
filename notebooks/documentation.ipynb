{
 "cells": [
  {
   "cell_type": "markdown",
   "id": "714f8c3833bfc15c",
   "metadata": {},
   "source": [
    "# Régression Linéaire pour la prédiction des prix de voiture\n",
    "\n",
    "Modèle simple pour prédire les prix en fonction du kilométrage."
   ]
  },
  {
   "cell_type": "markdown",
   "id": "4e16942f93d83f12",
   "metadata": {},
   "source": [
    "## Définitions :\n",
    "\n",
    "- **Normalisation** : Redimensionner les variables numériques pour qu'elles soient comparables sur une échelle commune.\n",
    "- **Machine Learning** : Donner à une machine la capacité d'apprendre sans la programmer de façon explicite.\n",
    "- **Apprentissage supervisé** : Technique d'apprentissage la plus courante en machine learning. On donne des exemples à la machine qu'elle doit étudier pour en créer des modèles.\n",
    "- **Dataset** : Ensemble d'exemples données à la machine pour apprendre (tableau de données).\n",
    "- **Problème de regression** : On cherche à prédire la valeur d'une variable continue, c'est-à-dire une variable qui peux prendre une infinité de valeurs.\n",
    "- **Problème de classification** : On cherche à prédire la valeur d'une variable discrète, c'est-à-dire une variable qui prends certaines valeurs."
   ]
  },
  {
   "metadata": {},
   "cell_type": "markdown",
   "source": [
    "## Prérequis :\n",
    "\n",
    "Pour travailler de manière plus optimale, l'utilisation de matrice est fortement recommandé. Pour ce projet, j'ai décidé de créer moi-même une classe `Matrix` contenant toutes les opérations nécessaires pour la régression linéaire. Il est en revenche recommandé d'utiliser des librairies externes, tel que `numpy` ou `pandas` pour plus de facilité."
   ],
   "id": "5f3b359ea15dfbb4"
  },
  {
   "metadata": {
    "ExecuteTime": {
     "end_time": "2024-10-17T11:48:41.606112Z",
     "start_time": "2024-10-17T11:48:41.599820Z"
    }
   },
   "cell_type": "code",
   "source": [
    "class Matrix(object):\n",
    "    values: list[list[float]]\n",
    "\n",
    "    def __init__(self, values: list[list[float]]):\n",
    "        self.values = values\n",
    "\n",
    "    def shape(self) -> tuple[int, int]:\n",
    "        return len(self.values), len(self.values[0])\n",
    "\n",
    "    def min(self) -> float:\n",
    "        return min(min(value) for value in self.values)\n",
    "\n",
    "    def max(self) -> float:\n",
    "        return max(max(value) for value in self.values)\n",
    "\n",
    "    def sum(self) -> float:\n",
    "        return sum(sum(row) for row in self.values)\n",
    "\n",
    "    def substract(self, matrix: list[list[float]]) -> list[list[float]]:\n",
    "        return [[i - j for i, j in zip(*m)] for m in zip(self.values, matrix)]\n",
    "\n",
    "    def multiply(self, matrix: list[list[float]]) -> list[list[float]]:\n",
    "        if len(self.values[0]) != len(matrix):\n",
    "            raise ValueError(\"The number of columns in the first matrix must correspond to the number of rows in the second matrix.\")\n",
    "        return [[sum(m * n for m, n in zip(i, j)) for j in zip(*matrix)] for i in self.values]\n",
    "\n",
    "    def transpose(self) -> list[list[float]]:\n",
    "        return list(map(list, zip(*self.values)))\n",
    "\n",
    "    def scalar(self, n: float) -> list[list[float]]:\n",
    "        return [[x * n for x in row] for row in self.values]\n",
    "\n",
    "    def mean(self) -> float:\n",
    "        shape: tuple[int, int] = self.shape()\n",
    "        return self.sum() / (shape[0] * shape[1])\n",
    "\n",
    "    def square(self) -> list[list[float]]:\n",
    "        shape: tuple[int, int] = self.shape()\n",
    "        return [[self.values[i][j] ** 2 for j in range(shape[1])] for i in range(shape[0])]\n"
   ],
   "id": "364c63db1c9414b3",
   "outputs": [],
   "execution_count": 14
  },
  {
   "cell_type": "markdown",
   "id": "f373cc52b2ef99ab",
   "metadata": {},
   "source": [
    "## Étape 1 : Dataset\n",
    "\n",
    "La première étape consiste à récupérer les données de notre dataset. Pour ce faire, voici une classe permettant d'extraire les données (à l'initialisation de notre classe) de notre dataset (notre fichier CSV) en Python."
   ]
  },
  {
   "cell_type": "code",
   "id": "7e99d77f3416fa2b",
   "metadata": {
    "ExecuteTime": {
     "end_time": "2024-10-17T11:48:41.613830Z",
     "start_time": "2024-10-17T11:48:41.610329Z"
    }
   },
   "source": [
    "from csv import reader\n",
    "\n",
    "class Dataset(object):\n",
    "    target: Matrix\n",
    "    features: Matrix\n",
    "\n",
    "    def __init__(self, path: str):\n",
    "        self.target = Matrix([])\n",
    "        self.features = Matrix([])\n",
    "        self.__read_dataset(path)\n",
    "\n",
    "    def __read_dataset(self, path: str) -> None:\n",
    "        try:\n",
    "            with open(path, mode=\"r\", newline=\"\") as file:\n",
    "                r = reader(file)\n",
    "                next(r)\n",
    "                for row in r:\n",
    "                    self.target.values.append([float(row[1])])\n",
    "                    self.features.values.append([float(row[0])])\n",
    "        except FileNotFoundError:\n",
    "            raise RuntimeError(f\"The file {path} does not exist.\")\n",
    "        except Exception as e:\n",
    "            raise RuntimeError(f\"An error occurred while reading the CSV file: {e}\")"
   ],
   "outputs": [],
   "execution_count": 15
  },
  {
   "cell_type": "markdown",
   "id": "8942aef6d206e6b0",
   "metadata": {},
   "source": [
    "Représentation visuel de notre target et de nos features (non normalisé) contenu dans notre dataset.\n",
    "\n",
    "![Raw Data Visualisation](images/raw_data.png)\n",
    "\n",
    "Par convention, on note `m` le nombre d'exemple que l'on a dans notre dataset.\n",
    "On note `n` le nombre de features que possède notre dataset (c'est-à-dire le nombre de colonne hormis la colonne target).\n",
    "\n",
    "![Dataset representation](images/dataset.png)\n",
    "\n",
    "Dans notre situation, nous aurons donc un vecteur target (prix) de taille `(m, 1)` et une matrice features (km) de taille `(m, 1)` où `m` est égal à 24.\n",
    "\n",
    "Dans notre situation, nous avons :\n",
    "\n",
    "$$\n",
    "\\vec{y}=\\begin{pmatrix}240000\\cr139800\\cr\\ldots\\cr61789\\cr\\end{pmatrix}\n",
    "$$\n",
    "$$\n",
    "\\vec{x}=\\begin{pmatrix}3650\\cr3800\\cr\\ldots\\cr8290\\cr\\end{pmatrix}\n",
    "$$"
   ]
  },
  {
   "cell_type": "markdown",
   "id": "f590105202fc7734",
   "metadata": {},
   "source": [
    "## Étape 2 : Modèle\n",
    "\n",
    "À partir du dataset (et de la représentation graphique présente plus haut), on peux visualiser un nuage de points. Pour ce projet, nous allons utiliser un modèle linéaire, cependant il existe d'autres type de modèle disponible.\n",
    "\n",
    "Pour notre modèle linéaire, nous avons donc la formule suivante :\n",
    "\n",
    "$$\n",
    "f(x)=ax+b\n",
    "$$\n",
    "\n",
    "Ce modèle a deux paramètres, le premier `a` et le second `b` (ce sont les coéfficients de notre polynome).\n",
    "Il est important de noter que c'est nous qui décidons quel modèle doit utiliser la machine et c'est la machine qui doit apprendre les paramètres.\n",
    "\n",
    "Notre modèle est une généralisation de l'ensemble des points que l'on a à disposition dans notre dataset.\n",
    "Un bon modèle est un modèle qui nous donne les plus petites erreurs."
   ]
  },
  {
   "metadata": {},
   "cell_type": "markdown",
   "source": [
    "## Étape 3 : Fonction Coût\n",
    "\n",
    "Ce modèle quand on l'utilise par rapport à notre dataset, il nous donne des erreurs. \n",
    "\n",
    "![Error model](images/model_error.png)\n",
    "\n",
    "Quand on assemble toutes ces erreurs, ça nous donne ce que l'on appel la `fonction coût`."
   ],
   "id": "94dae7d1d0e4515e"
  },
  {
   "metadata": {},
   "cell_type": "markdown",
   "source": [
    "## Étape 4 : Algorithme de minimisation\n",
    "\n",
    "L'algorithme de minimisation est une stratégie qui cherche à trouver quels sont les paramètres de notre modèle qui minimise la fonction coût, c'est-à-dire qui minimise l'ensemble de nos erreurs.\n",
    "\n",
    "Pour minimiser cette fonction coût, nous utiliserons l'algorithme de la déscente de gradient."
   ],
   "id": "5480dfcb41948775"
  },
  {
   "cell_type": "markdown",
   "id": "509a18a41ffe49bd",
   "metadata": {},
   "source": []
  }
 ],
 "metadata": {
  "kernelspec": {
   "display_name": "Python 3 (ipykernel)",
   "language": "python",
   "name": "python3"
  },
  "language_info": {
   "codemirror_mode": {
    "name": "ipython",
    "version": 3
   },
   "file_extension": ".py",
   "mimetype": "text/x-python",
   "name": "python",
   "nbconvert_exporter": "python",
   "pygments_lexer": "ipython3",
   "version": "3.9.6"
  }
 },
 "nbformat": 4,
 "nbformat_minor": 5
}
