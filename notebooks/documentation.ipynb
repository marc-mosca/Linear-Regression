{
 "cells": [
  {
   "cell_type": "markdown",
   "id": "714f8c3833bfc15c",
   "metadata": {},
   "source": [
    "# Régression Linéraire pour la prédiction des prix de voiture\n",
    "\n",
    "Modèle simple pour prédire les prix en fonction du kilométrage."
   ]
  },
  {
   "cell_type": "markdown",
   "id": "4e16942f93d83f12",
   "metadata": {},
   "source": [
    "## Définitions :\n",
    "\n",
    "- **Normalisation** : Redimensionner les variables numériques pour qu'elles soient comparables sur une échelle commune.\n",
    "- **Machine Learning** : Donner à une machine la capacité d'apprendre sans la programmer de façon explicite.\n",
    "- **Apprentissage supervisé** : Technique d'apprentissage la plus courante en machine learning. On donne des exemples à la machine qu'elle doit étudier pour en créer des modèles.\n",
    "- **Dataset** : Ensemble d'exemples données à la machine pour apprendre (tableau de données).\n",
    "- **Problème de regression** : On cherche à prédire la valeur d'une variable continue, c'est-à-dire une variable qui peux prendre une infinité de valeurs.\n",
    "- **Problème de classification** : On cherche à prédire la valeur d'une variable discrète, c'est-à-dire une variable qui prends certaines valeurs."
   ]
  },
  {
   "cell_type": "markdown",
   "id": "f373cc52b2ef99ab",
   "metadata": {},
   "source": [
    "## Étape 1 : Charger les données\n",
    "\n",
    "Fonction permettant de lire et d'extraire des données d'un fichier CSV."
   ]
  },
  {
   "cell_type": "code",
   "execution_count": null,
   "id": "7e99d77f3416fa2b",
   "metadata": {},
   "outputs": [],
   "source": [
    "from csv import reader\n",
    "\n",
    "def read_csv(self) -> tuple[list[list[float]], list[list[float]]]:\n",
    "    mileage: list[list[float]] = []\n",
    "    price: list[list[float]] = []\n",
    "\n",
    "    try:\n",
    "        with open(self.path, mode='r', newline='') as file:\n",
    "            r = reader(file)\n",
    "            next(r)\n",
    "            for row in r:\n",
    "                mileage.append([float(row[0])])\n",
    "                price.append([float(row[1])])\n",
    "\n",
    "        return mileage, price\n",
    "    except FileNotFoundError:\n",
    "        raise RuntimeError(f\"The file {self.path} does not exist.\")\n",
    "    except Exception as e:\n",
    "        raise RuntimeError(f\"An error occurred while reading the CSV file: {e}\")"
   ]
  },
  {
   "cell_type": "markdown",
   "id": "8942aef6d206e6b0",
   "metadata": {},
   "source": [
    "Représentation visuel des donnés brutes contenu dans le fichier CSV.\n",
    "\n",
    "![Raw Data Visualisation](images/raw_data.png)\n",
    "\n",
    "Par convention, on note `m` le nombre d'exemple que l'on a dans notre dataset.\n",
    "On note `n` le nombre de features que possède notre dataset (c'est-à-dire le nombre de colonne hormis la colonne target).\n",
    "\n",
    "![Dataset representation](images/dataset.png)\n",
    "\n",
    "Dans notre situation, nous aurons donc un vecteur target (prix) de taille `(m, 1)` et une matrice features (km) de taille `(m, 1)` où `m` est égal à 24.\n",
    "\n",
    "Dans notre situation, nous avons :\n",
    "\n",
    "$$\n",
    "\\vec{y}=\\begin{pmatrix}240000\\cr139800\\cr\\ldots\\cr61789\\cr\\end{pmatrix}\n",
    "$$\n",
    "$$\n",
    "\\vec{x}=\\begin{pmatrix}3650\\cr3800\\cr\\ldots\\cr8290\\cr\\end{pmatrix}\n",
    "$$"
   ]
  },
  {
   "cell_type": "markdown",
   "id": "f590105202fc7734",
   "metadata": {},
   "source": [
    "## Étape 2 : Normaliser les données du fichier CSV\n",
    "\n",
    "Fonction permettant de normalier les données extrait du dataset.\n",
    "\n",
    "La formule permettant de normaliser des données est :\n",
    "$$\n",
    "x_{norm} = \\frac{x - x_{min}}{x_{max} - x_{min}}\n",
    "$$\n"
   ]
  },
  {
   "cell_type": "code",
   "execution_count": 6,
   "id": "452a425785c01841",
   "metadata": {
    "ExecuteTime": {
     "end_time": "2024-10-16T16:38:21.279759Z",
     "start_time": "2024-10-16T16:38:21.276716Z"
    }
   },
   "outputs": [],
   "source": [
    "def normalize(self, matrix: list[list[float]]) -> list[list[float]]:\n",
    "    xmin: float = self.__matrix_min(matrix) # Recherche de la valeur minimum dans la matrice.\n",
    "    xmax: float = self.__matrix_max(matrix) # Recherche de la valeur maximale dans la matrice.\n",
    "    return [[(item[0] - xmin) / (xmax - xmin)] for item in matrix]"
   ]
  },
  {
   "cell_type": "markdown",
   "id": "3b6ef979e20f8f9f",
   "metadata": {},
   "source": [
    "Représentation visuel des donnés normalisés (représentant le kilométrage).\n",
    "![Normalized Mileages](images/normalize_mileages.png)"
   ]
  },
  {
   "cell_type": "markdown",
   "id": "509a18a41ffe49bd",
   "metadata": {},
   "source": []
  },
  {
   "cell_type": "code",
   "execution_count": null,
   "id": "d92f111267324f68",
   "metadata": {},
   "outputs": [],
   "source": []
  }
 ],
 "metadata": {
  "kernelspec": {
   "display_name": "Python 3 (ipykernel)",
   "language": "python",
   "name": "python3"
  },
  "language_info": {
   "codemirror_mode": {
    "name": "ipython",
    "version": 3
   },
   "file_extension": ".py",
   "mimetype": "text/x-python",
   "name": "python",
   "nbconvert_exporter": "python",
   "pygments_lexer": "ipython3",
   "version": "3.9.6"
  }
 },
 "nbformat": 4,
 "nbformat_minor": 5
}
