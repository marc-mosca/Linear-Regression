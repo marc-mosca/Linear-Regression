{
 "cells": [
  {
   "cell_type": "markdown",
   "id": "714f8c3833bfc15c",
   "metadata": {},
   "source": [
    "# Régression Linéaire pour la prédiction des prix de voiture\n",
    "\n",
    "Modèle simple pour prédire les prix en fonction du kilométrage."
   ]
  },
  {
   "cell_type": "markdown",
   "id": "4e16942f93d83f12",
   "metadata": {},
   "source": [
    "## Définitions :\n",
    "\n",
    "- **Normalisation** : Redimensionner les variables numériques pour qu'elles soient comparables sur une échelle commune.\n",
    "- **Machine Learning** : Donner à une machine la capacité d'apprendre sans la programmer de façon explicite.\n",
    "- **Apprentissage supervisé** : Technique d'apprentissage la plus courante en machine learning. On donne des exemples à la machine qu'elle doit étudier pour en créer des modèles.\n",
    "- **Dataset** : Ensemble d'exemples données à la machine pour apprendre (tableau de données).\n",
    "- **Problème de regression** : On cherche à prédire la valeur d'une variable continue, c'est-à-dire une variable qui peux prendre une infinité de valeurs.\n",
    "- **Problème de classification** : On cherche à prédire la valeur d'une variable discrète, c'est-à-dire une variable qui prends certaines valeurs."
   ]
  },
  {
   "metadata": {},
   "cell_type": "markdown",
   "source": [
    "## Prérequis :\n",
    "\n",
    "Pour travailler de manière plus optimale, l'utilisation de matrice est fortement recommandée. Pour ce projet, j'ai décidé de créer moi-même une classe `Matrix` contenant toutes les opérations matricielles. Il est en revanche recommandé d'utiliser des librairies externes, telles que `numpy` ou `pandas` pour plus de facilité."
   ],
   "id": "5f3b359ea15dfbb4"
  },
  {
   "metadata": {
    "ExecuteTime": {
     "end_time": "2024-10-17T15:23:13.708316Z",
     "start_time": "2024-10-17T15:23:13.691966Z"
    }
   },
   "cell_type": "code",
   "source": [
    "class Matrix(object):\n",
    "    values: list[list[float]]\n",
    "\n",
    "    def __init__(self, values: list[list[float]]):\n",
    "        self.values = values\n",
    "\n",
    "    def shape(self) -> tuple[int, int]:\n",
    "        return len(self.values), len(self.values[0])\n",
    "\n",
    "    def min(self) -> float:\n",
    "        return min(min(value) for value in self.values)\n",
    "\n",
    "    def max(self) -> float:\n",
    "        return max(max(value) for value in self.values)\n",
    "\n",
    "    def sum(self) -> float:\n",
    "        return sum(sum(row) for row in self.values)\n",
    "\n",
    "    def substract(self, matrix: list[list[float]]) -> list[list[float]]:\n",
    "        return [[i - j for i, j in zip(*m)] for m in zip(self.values, matrix)]\n",
    "\n",
    "    def multiply(self, matrix: list[list[float]]) -> list[list[float]]:\n",
    "        if len(self.values[0]) != len(matrix):\n",
    "            raise ValueError(\"The number of columns in the first matrix must correspond to the number of rows in the second matrix.\")\n",
    "        return [[sum(m * n for m, n in zip(i, j)) for j in zip(*matrix)] for i in self.values]\n",
    "\n",
    "    def transpose(self) -> list[list[float]]:\n",
    "        return list(map(list, zip(*self.values)))\n",
    "\n",
    "    def scalar(self, n: float) -> list[list[float]]:\n",
    "        return [[x * n for x in row] for row in self.values]\n",
    "\n",
    "    def mean(self) -> float:\n",
    "        shape: tuple[int, int] = self.shape()\n",
    "        return self.sum() / (shape[0] * shape[1])\n",
    "\n",
    "    def square(self) -> list[list[float]]:\n",
    "        shape: tuple[int, int] = self.shape()\n",
    "        return [[self.values[i][j] ** 2 for j in range(shape[1])] for i in range(shape[0])]\n"
   ],
   "id": "364c63db1c9414b3",
   "outputs": [],
   "execution_count": 31
  },
  {
   "cell_type": "markdown",
   "id": "f373cc52b2ef99ab",
   "metadata": {},
   "source": [
    "## Étape 1 : Dataset\n",
    "\n",
    "La première étape consiste à récupérer les données de notre dataset. On va extraire deux matrices qui correspondent à notre target et nos features.\n",
    "Dans notre situation, nous avons donc un vecteur target (prix) et une matrice features (kilométrages).\n",
    "\n",
    "Voici une représentation de nos matrices :\n",
    "\n",
    "$$\n",
    "\\vec{x} = \\begin{pmatrix} 240000 \\cr 139800 \\cr \\ldots \\cr 61789 \\cr \\end {pmatrix}\n",
    "$$\n",
    "\n",
    "$$\n",
    "\\vec{y} = \\begin{pmatrix} 3650 \\cr 3800 \\cr \\ldots \\cr 8290 \\cr \\end {pmatrix}\n",
    "$$\n",
    "\n",
    "Par convention, on note $m$ le nombre d'exemple que l'on a dans notre dataset et on note $n$ le nombre de features que l'on a dans notre dataset. Notre matrice target a une taille de $(m, 1)$ et notre matrice features a une taille de $(m, n)$. Avec notre dataset, nous avons donc $m = 24$ et $n = 1$.\n",
    "\n",
    "Pour ce faire, voici une classe permettant d'extraire les données (à l'initialisation de notre classe) de notre dataset (notre fichier CSV) en Python."
   ]
  },
  {
   "cell_type": "code",
   "id": "7e99d77f3416fa2b",
   "metadata": {
    "ExecuteTime": {
     "end_time": "2024-10-17T15:23:13.719867Z",
     "start_time": "2024-10-17T15:23:13.715571Z"
    }
   },
   "source": [
    "from csv import reader\n",
    "\n",
    "class Dataset(object):\n",
    "    target: Matrix\n",
    "    features: Matrix\n",
    "\n",
    "    def __init__(self, path: str):\n",
    "        self.target = Matrix([])\n",
    "        self.features = Matrix([])\n",
    "        self.__read_dataset(path)\n",
    "\n",
    "    def __read_dataset(self, path: str) -> None:\n",
    "        try:\n",
    "            with open(path, mode=\"r\", newline=\"\") as file:\n",
    "                r = reader(file)\n",
    "                next(r)\n",
    "                for row in r:\n",
    "                    self.target.values.append([float(row[1])])\n",
    "                    self.features.values.append([float(row[0])])\n",
    "        except FileNotFoundError:\n",
    "            raise RuntimeError(f\"The file {path} does not exist.\")\n",
    "        except Exception as e:\n",
    "            raise RuntimeError(f\"An error occurred while reading the CSV file: {e}\")"
   ],
   "outputs": [],
   "execution_count": 32
  },
  {
   "cell_type": "markdown",
   "id": "8942aef6d206e6b0",
   "metadata": {},
   "source": [
    "![Raw Data Visualisation](images/raw_data.png)\n",
    "![Dataset representation](images/dataset.png)"
   ]
  },
  {
   "cell_type": "markdown",
   "id": "f590105202fc7734",
   "metadata": {},
   "source": [
    "## Étape 2 : Modèle\n",
    "\n",
    "À partir du dataset (et de la représentation graphique présente plus haut), on peux visualiser un nuage de points. Pour ce projet, nous allons utiliser un modèle linéaire, cependant il existe d'autres type de modèle disponible.\n",
    "\n",
    "Il est important de noter que c'est nous qui décidons de quel modèle la machine doit utiliser et c'est la machine qui doit apprendre les paramètres. Le modèle est une généralisation de l'ensemble des points de notre dataset, un bon modèle est un modèle qui nous donne les plus petites erreurs.\n",
    "\n",
    "Pour notre modèle linéaire, nous avons donc la formule suivante :\n",
    "\n",
    "$$\n",
    "f(x)=ax+b\n",
    "$$\n",
    "\n",
    "La formule sous forme matricielle :\n",
    "\n",
    "$$\n",
    "F = X \\cdot \\theta\n",
    "$$\n",
    "\n",
    "Ce modèle a deux paramètres $a$ et $b$ (cf. coefficients polynome). Comme c'est la machine qui doit apprendre les paramètres, nous utiliserons au lancement du programme des paramètres aléatoire.\n",
    "\n",
    "Voici des fonctions permettant de calculer notre model :"
   ]
  },
  {
   "metadata": {
    "ExecuteTime": {
     "end_time": "2024-10-17T15:23:13.732660Z",
     "start_time": "2024-10-17T15:23:13.730127Z"
    }
   },
   "cell_type": "code",
   "source": [
    "def model(self, x: float, theta: Matrix) -> float:\n",
    "    return theta.values[0][0] + (theta.values[1][0] * x)\n",
    "\n",
    "def matrix_model(self, x: Matrix, theta: Matrix) -> Matrix:\n",
    "    return Matrix(x.multiply(theta.values))"
   ],
   "id": "c049cb35aa9e9b06",
   "outputs": [],
   "execution_count": 33
  },
  {
   "metadata": {},
   "cell_type": "markdown",
   "source": [
    "## Étape 3 : Fonction Coût\n",
    "\n",
    "La fonction coût (cf. Fonction Quadratique Moyenne) permet de calculer le coût entre le modèle qu'elle est en train de développer et les vraies valeur de target. Trouver le minimum de la fonction coût revient à trouver le meilleur modèle pour notre programme.\n",
    "\n",
    "La fonction va mesurer la distance entre la prédiction (le point sur notre droite) et la valeur réelle (cf. norme euclidienne), c'est ce que l'on nomme erreur. On va rassembler toutes les erreurs dans une fonction nommé $J$.\n",
    "\n",
    "Pour notre fonction coût, la formule est la suivate :\n",
    "\n",
    "$$\n",
    "J(a, b) = \\frac{1}{2m} \\displaystyle\\sum_{i=1}^m (f(x^i) - y^i)^2\n",
    "$$\n",
    "\n",
    "La formule sous forme matricielle :\n",
    "\n",
    "$$\n",
    "J(\\theta) = \\frac{1}{2m} \\displaystyle\\sum_{i=1}^m (X \\cdot \\theta - Y)^2\n",
    "$$\n",
    "\n",
    "![Cost function](images/cost.png)\n",
    "\n",
    "![Error model](images/model_error.png)"
   ],
   "id": "94dae7d1d0e4515e"
  },
  {
   "metadata": {},
   "cell_type": "markdown",
   "source": [
    "## Étape 4 : Algorithme de minimisation\n",
    "\n",
    "L'algorithme de minimisation est une stratégie qui cherche à trouver quels sont les paramètres de notre modèle qui minimise la fonction coût, c'est-à-dire qui minimise l'ensemble de nos erreurs. Pour notre projet, nous utiliserons la déscente de gradient. La déscente de gradient est un algorithme d'optimisation qui converge vers le minimum d'une fonction convexe.\n",
    "\n",
    "Dans notre situation, la fonction coût à la même allure qu'une fonction carré (car on fait la somme de carré), c'est-à-dire une allure parabolique. Sur cette fonction, on recherche le minimum de $J$ par rapport à $a$. Pour ce faire, on choisi au hasard un point sur la courbe $J$, on va mesurer sa dérivé et on va aller dans la direction de la pente qui déscends. L'hyper-paramètre $\\alpha$ correspond à notre vitesse de convergence (aka. learning_rate).\n",
    "\n",
    "Pour notre déscente de gradient, voici les formules :\n",
    "\n",
    "$$\n",
    "a = a - \\alpha \\frac{\\partial J(a, b)}{\\partial a}\n",
    "$$\n",
    "\n",
    "$$\n",
    "b = b - \\alpha \\frac{\\partial J(a, b)}{\\partial b}\n",
    "$$\n",
    "\n",
    "$$\n",
    "\\theta = \\theta - \\alpha \\frac{\\partial J(\\theta)}{\\partial \\theta}\n",
    "$$\n",
    "\n",
    "Pour calculer les dérivés de $a$ et $b$ par rapport à $J$, on utilise les formules suivantes :\n",
    "\n",
    "$$\n",
    "\\frac{\\partial J(a, b)}{\\partial a} = \\frac{1}{m} \\displaystyle\\sum_{i=1}^m x^i(ax^i + b - y^i)\n",
    "$$\n",
    "\n",
    "$$\n",
    "\\frac{\\partial J(a, b)}{\\partial b} = \\frac{1}{m} \\displaystyle\\sum_{i=1}^m 1(ax^i + b - y^i)\n",
    "$$\n",
    "\n",
    "$$\n",
    "\\frac{\\partial J(\\theta)}{\\partial \\theta} = \\frac{1}{m} X^T (X \\cdot \\theta - Y)\n",
    "$$\n",
    "\n",
    "Voici un exemple de code pour la déscente de gradient :"
   ],
   "id": "5480dfcb41948775"
  },
  {
   "metadata": {},
   "cell_type": "code",
   "outputs": [],
   "execution_count": null,
   "source": [
    "def gradient(self, x: Matrix, y: Matrix, theta: Matrix) -> Matrix:\n",
    "    m: int = x.shape()[0]\n",
    "    predictions: Matrix = self.matrix_model(x, theta)\n",
    "    errors: Matrix = Matrix(predictions.substract(y.values))\n",
    "    x_t: Matrix = Matrix(x.transpose())\n",
    "    grad: Matrix = Matrix(x_t.multiply(errors.values))\n",
    "    return Matrix([[element * (1 / m) for element in row] for row in grad.values])\n",
    "\n",
    "def gradient_descent(self, x: Matrix, y: Matrix, theta: Matrix) -> Matrix:\n",
    "    for i in range(self.iterations):\n",
    "        gradient: Matrix = self.gradient(x, y, theta)\n",
    "        updated_theta: Matrix = Matrix(gradient.scalar(self.learning_rate))\n",
    "        theta: Matrix = Matrix(theta.substract(updated_theta.values))\n",
    "    return theta"
   ],
   "id": "d93ebcce0ce83bd9"
  },
  {
   "metadata": {},
   "cell_type": "markdown",
   "source": [
    "![Square function](images/squared_function.png)\n",
    "![Regressions](images/regression.png)"
   ],
   "id": "d048e854830647e0"
  }
 ],
 "metadata": {
  "kernelspec": {
   "display_name": "Python 3 (ipykernel)",
   "language": "python",
   "name": "python3"
  },
  "language_info": {
   "codemirror_mode": {
    "name": "ipython",
    "version": 3
   },
   "file_extension": ".py",
   "mimetype": "text/x-python",
   "name": "python",
   "nbconvert_exporter": "python",
   "pygments_lexer": "ipython3",
   "version": "3.9.6"
  }
 },
 "nbformat": 4,
 "nbformat_minor": 5
}
